{
 "cells": [
  {
   "cell_type": "markdown",
   "id": "bb50957f-fb08-4502-837b-313ce8e75c54",
   "metadata": {},
   "source": [
    "###### Write a Python program to check if a given number is positive or negative.\n",
    "a = 5\n",
    "if a > 0:\n",
    "\tprint(\"Positive number\")\n",
    "else:\n",
    "\tprint(\"Negative number\")"
   ]
  },
  {
   "cell_type": "code",
   "execution_count": 2,
   "id": "300e8a3f-e83e-43f3-ba65-c170ec87413a",
   "metadata": {},
   "outputs": [
    {
     "name": "stdout",
     "output_type": "stream",
     "text": [
      "Voter\n"
     ]
    }
   ],
   "source": [
    "#Create a program that determines if a person is eligible to vote based on their age.\n",
    "age = 22\n",
    "if age > 18:\n",
    "\tprint(\"Voter\")\n",
    "else:\n",
    "\tprint(\"No Vote\")"
   ]
  },
  {
   "cell_type": "code",
   "execution_count": 3,
   "id": "6d51d036-b79f-4cb4-9425-0229ae5773aa",
   "metadata": {},
   "outputs": [
    {
     "name": "stdin",
     "output_type": "stream",
     "text": [
      "Enter the first number:  15\n",
      "Enter the second number:  80\n"
     ]
    },
    {
     "name": "stdout",
     "output_type": "stream",
     "text": [
      "80 is greater\n"
     ]
    }
   ],
   "source": [
    "#Develop a program to find the maximum of two numbers using if-else statements.\n",
    "num1 = int(input(\"Enter the first number: \"))\n",
    "num2 = int(input(\"Enter the second number: \"))\n",
    "\n",
    "# printing the maximum value\n",
    "if(num1 > num2):\n",
    "  print(num1, \"is greater\")\n",
    "else:\n",
    "    print(num2, \"is greater\")"
   ]
  },
  {
   "cell_type": "code",
   "execution_count": 12,
   "id": "048b971e-8f45-43fc-bbec-76d6181e1b93",
   "metadata": {},
   "outputs": [
    {
     "name": "stdout",
     "output_type": "stream",
     "text": [
      "Leapyear\n"
     ]
    }
   ],
   "source": [
    "#Write a Python script to classify a given year as a leap year or not.\n",
    "year = 2022\n",
    "if year / 4:\n",
    "\tprint(\"Leapyear\")\n",
    "else:\n",
    "\tprint(\"No Leapyear\")"
   ]
  },
  {
   "cell_type": "code",
   "execution_count": 2,
   "id": "6aae6159-7c5a-4cb1-afcb-acb40ac997ac",
   "metadata": {},
   "outputs": [
    {
     "name": "stdout",
     "output_type": "stream",
     "text": [
      "Consonant\n",
      "Vowel\n"
     ]
    }
   ],
   "source": [
    "#Create a program that checks whether a character is a vowel or a consonant. \n",
    "def vowelOrConsonant(x): \n",
    "\n",
    "\tif (x == 'a' or x == 'e' or\n",
    "\t\tx == 'i' or x == 'o' or x == 'u'): \n",
    "\t\tprint(\"Vowel\") \n",
    "\telse: \n",
    "\t\tprint(\"Consonant\") \n",
    "\n",
    "# Driver code \n",
    "vowelOrConsonant('p') \n",
    "vowelOrConsonant('o') \n",
    "\t\n",
    " \n",
    "\t\n"
   ]
  },
  {
   "cell_type": "code",
   "execution_count": 6,
   "id": "83f3892f-633f-4b5e-a91b-8b0795b601b9",
   "metadata": {},
   "outputs": [
    {
     "name": "stdin",
     "output_type": "stream",
     "text": [
      "Enter a number:  48\n"
     ]
    },
    {
     "name": "stdout",
     "output_type": "stream",
     "text": [
      "This is an even number.\n"
     ]
    }
   ],
   "source": [
    "#Implement a program to determine whether a given number is even or odd.\n",
    "num = int(input(\"Enter a number: \"))\n",
    "mod = num % 2\n",
    "\n",
    "if mod > 0:\n",
    "    print(\"This is an odd number.\")\n",
    "else:\n",
    "    print(\"This is an even number.\")\n",
    "\n",
    "\n"
   ]
  },
  {
   "cell_type": "code",
   "execution_count": 1,
   "id": "b232da24-9fbb-4ae2-8496-8e2b7e94f4c1",
   "metadata": {},
   "outputs": [],
   "source": [
    "#Write a Python function to calculate the absolute value of a number without using the `abs()` function.\n",
    "def absolute(n):\n",
    "    if n>0:\n",
    "        print(n)\n",
    "    else:\n",
    "        print(-n)"
   ]
  },
  {
   "cell_type": "code",
   "execution_count": 2,
   "id": "43a07149-f5d7-4606-b014-54fc5045dc8e",
   "metadata": {},
   "outputs": [
    {
     "name": "stdout",
     "output_type": "stream",
     "text": [
      "47\n"
     ]
    }
   ],
   "source": [
    "absolute(-47)"
   ]
  },
  {
   "cell_type": "code",
   "execution_count": 3,
   "id": "c4a0520c-791e-4ae8-87a6-7afb4beffd7b",
   "metadata": {},
   "outputs": [
    {
     "name": "stdout",
     "output_type": "stream",
     "text": [
      "45\n"
     ]
    }
   ],
   "source": [
    "#Develop a program that determines the largest of three given numbers using if-else statements.\n",
    "def maximum(a, b, c): \n",
    "\n",
    "\tif (a >= b) and (a >= c): \n",
    "\t\tlargest = a \n",
    "\n",
    "\telif (b >= a) and (b >= c): \n",
    "\t\tlargest = b \n",
    "\telse: \n",
    "\t\tlargest = c \n",
    "\t\t\n",
    "\treturn largest \n",
    "\n",
    "\n",
    "\n",
    "a = 15\n",
    "b = 45\n",
    "c = 20\n",
    "print(maximum(a, b, c)) \n"
   ]
  },
  {
   "cell_type": "code",
   "execution_count": 4,
   "id": "b4973dd6-1e70-482e-90d2-b8dc093a104e",
   "metadata": {},
   "outputs": [
    {
     "name": "stdout",
     "output_type": "stream",
     "text": [
      "Yes\n"
     ]
    }
   ],
   "source": [
    "#Create a program that checks if a given string is a palindrome.\n",
    "\n",
    "def isPalindrome(s):\n",
    "\treturn s == s[::-1]\n",
    "\n",
    "\n",
    "\n",
    "s = \"malayalam\"\n",
    "ans = isPalindrome(s)\n",
    "\n",
    "if ans:\n",
    "\tprint(\"Yes\")\n",
    "else:\n",
    "\tprint(\"No\")\n"
   ]
  },
  {
   "cell_type": "code",
   "execution_count": 6,
   "id": "58be05bc-a270-41e4-84ca-0545e129e1dd",
   "metadata": {},
   "outputs": [
    {
     "name": "stdout",
     "output_type": "stream",
     "text": [
      "Pass\n"
     ]
    }
   ],
   "source": [
    "#Write a Python program to calculate the grade based on a student's score.\n",
    "score = 45\n",
    "if score > 30:\n",
    "\tprint(\"Pass\")\n",
    "else:\n",
    "\tprint(\"Fail\")"
   ]
  },
  {
   "cell_type": "code",
   "execution_count": 7,
   "id": "b2f23414-47c7-4c04-92a4-cde5debf5745",
   "metadata": {},
   "outputs": [
    {
     "name": "stdout",
     "output_type": "stream",
     "text": [
      "The largest number is 47.5\n"
     ]
    }
   ],
   "source": [
    "#Write a program to find the largest among three numbers using nested if-else statements.\n",
    "\n",
    "num1 = 47.5\n",
    "num2 = 32.5\n",
    "num3 = 15.0\n",
    "if (num1 >= num2) and (num1 >= num3):\n",
    "   largest = num1\n",
    "elif (num2 >= num1) and (num2 >= num3):\n",
    "   largest = num2\n",
    "else:\n",
    "   largest = num3\n",
    "\n",
    "print(\"The largest number is\", largest)\n"
   ]
  },
  {
   "cell_type": "code",
   "execution_count": 11,
   "id": "40359385-c36e-4c39-bfe2-0c3d27725794",
   "metadata": {},
   "outputs": [
    {
     "name": "stdout",
     "output_type": "stream",
     "text": [
      "Scalene Triangle\n"
     ]
    }
   ],
   "source": [
    "#implement a program to determine if a triangle is equilateral, isosceles, or scalene\n",
    "def checkTriangle(x, y, z):\n",
    "\n",
    "\t\n",
    "\tif x == y == z:\n",
    "\t\tprint(\"Equilateral Triangle\")\n",
    "\n",
    "\t# Check for isosceles triangle\n",
    "\telif x == y or y == z or z == x:\n",
    "\t\tprint(\"Isosceles Triangle\")\n",
    "\n",
    "\t# Otherwise scalene triangle\n",
    "\telse:\n",
    "\t\tprint(\"Scalene Triangle\")\n",
    "\n",
    "\n",
    "\n",
    "x = 10\n",
    "y = 12.5\n",
    "z = 9\n",
    "\n",
    "checkTriangle(x, y, z)\n",
    "\n"
   ]
  },
  {
   "cell_type": "code",
   "execution_count": 14,
   "id": "0e8090dd-a920-45bc-8d20-5c0a3172e6d3",
   "metadata": {},
   "outputs": [
    {
     "name": "stdout",
     "output_type": "stream",
     "text": [
      "Leapyear\n"
     ]
    }
   ],
   "source": [
    "#Develop a program that checks if a year is a leap year and also if it is a century year.\n",
    "year = 2022\n",
    "if year / 4 :\n",
    "      print(\"Leapyear\")\n",
    "else:\n",
    "\tprint(\"No Leapyear\")"
   ]
  },
  {
   "cell_type": "code",
   "execution_count": 15,
   "id": "7a09619b-67bf-4391-87dc-1bc2fcd66103",
   "metadata": {},
   "outputs": [
    {
     "name": "stdout",
     "output_type": "stream",
     "text": [
      "Positive\n",
      "Equal to zero\n",
      "Negative\n"
     ]
    }
   ],
   "source": [
    "#Write a Python script to determine if a number is positive, negative, or zero\n",
    "\n",
    "def check(n):\n",
    "\t\n",
    "\t# if the number is positive\n",
    "\tif n > 0:\n",
    "\t\tprint(\"Positive\")\n",
    "\t\t\n",
    "\t# if the number is negative\n",
    "\telif n < 0:\n",
    "\t\tprint(\"Negative\")\n",
    "\t\t\n",
    "\t# if the number is equal to\n",
    "\t# zero\n",
    "\telse:\n",
    "\t\tprint(\"Equal to zero\")\n",
    "\t\t\n",
    "\n",
    "check(2.5)\n",
    "check(0)\n",
    "check(-47)\n"
   ]
  },
  {
   "cell_type": "code",
   "execution_count": 17,
   "id": "d99adbf5-36cf-4afd-b58f-30503d00b157",
   "metadata": {},
   "outputs": [
    {
     "name": "stdin",
     "output_type": "stream",
     "text": [
      "Please enter your age:  16\n"
     ]
    },
    {
     "name": "stdout",
     "output_type": "stream",
     "text": [
      "You are a teenager.\n"
     ]
    }
   ],
   "source": [
    "#Create a program to check if a person is a teenager (between 13 and 19 years )\n",
    "age = int(input(\"Please enter your age: \"))\n",
    "\n",
    "\n",
    "if age >= 19:\n",
    "    print(\"You are an adult.\")\n",
    "elif age >= 13 and age <= 19:\n",
    "    print(\"You are a teenager.\")\n",
    "else:\n",
    "    print(\"You are a child.\")\n",
    "        "
   ]
  },
  {
   "cell_type": "code",
   "execution_count": 21,
   "id": "74650c68-8934-492f-a55d-6ba14a344a47",
   "metadata": {},
   "outputs": [
    {
     "name": "stdout",
     "output_type": "stream",
     "text": [
      "The roots are\n",
      "(-3.414213562373095+0j)\n",
      "(-0.5857864376269049+0j)\n"
     ]
    }
   ],
   "source": [
    "# Write a Python program to calculate the roots of a quadratic equation.\n",
    "import cmath\n",
    "\n",
    "a = 1\n",
    "b = 4\n",
    "c = 2\n",
    "\n",
    "# calculating the discriminant\n",
    "dis = (b**2) - (4 * a*c)\n",
    "\n",
    "# find two results\n",
    "ans1 = (-b-cmath.sqrt(dis))/(2 * a)\n",
    "ans2 = (-b + cmath.sqrt(dis))/(2 * a)\n",
    "\n",
    "# printing the results\n",
    "print('The roots are')\n",
    "print(ans1)\n",
    "print(ans2)"
   ]
  },
  {
   "cell_type": "code",
   "execution_count": 23,
   "id": "324a9d7e-d5a8-4a05-a49e-ce8952119d59",
   "metadata": {},
   "outputs": [
    {
     "name": "stdin",
     "output_type": "stream",
     "text": [
      "Enter a number from 1 to 7:  4\n"
     ]
    },
    {
     "name": "stdout",
     "output_type": "stream",
     "text": [
      "4 is Wednesday\n"
     ]
    }
   ],
   "source": [
    "#Implement a program to determine the day of the week based on a user-provided number\n",
    "day = int(input(\"Enter a number from 1 to 7: \"))\n",
    "\n",
    "if day == 1:\n",
    "    print(day, \"is Sunday\")\n",
    "elif day == 2:\n",
    "    print(day, \"is Monday\")\n",
    "elif day == 3:\n",
    "    print(day, \"is Tuesday\")\n",
    "elif day == 4:\n",
    "    print(day, \"is Wednesday\")\n",
    "elif day == 5:\n",
    "    print(day, \"is Thursday\")\n",
    "elif day == 6:\n",
    "    print(day, \"is Friday\")\n",
    "elif day == 7:\n",
    "    print(day, \"is Saturday\")\n",
    "else:\n",
    "    print(\"Wrong input! Please enter a number from 1 to 7.\")\n"
   ]
  },
  {
   "cell_type": "code",
   "execution_count": 24,
   "id": "97b440fb-ea85-46ae-97d8-99da38c3f524",
   "metadata": {},
   "outputs": [
    {
     "name": "stdin",
     "output_type": "stream",
     "text": [
      "Enter year to be checked: 2021\n"
     ]
    },
    {
     "name": "stdout",
     "output_type": "stream",
     "text": [
      "The year isn't a leap year!\n"
     ]
    }
   ],
   "source": [
    "#Create a program that determines if a year is a leap year and also if it is evenly divisible by 400.\n",
    "year=int(input(\"Enter year to be checked:\"))\n",
    "if(year%4==0 and year%100!=0 or year%400==0):\n",
    "    print(\"The year is a leap year!\")\n",
    "else:\n",
    "    print(\"The year isn't a leap year!\")"
   ]
  },
  {
   "cell_type": "code",
   "execution_count": 25,
   "id": "e7996f50-0601-44a1-9b62-cf0376f93960",
   "metadata": {},
   "outputs": [
    {
     "name": "stdout",
     "output_type": "stream",
     "text": [
      "16 is not a prime number\n"
     ]
    }
   ],
   "source": [
    "#develop a program that checks if a given number is prime or not using nested if-else statements.\n",
    "\n",
    "num = 16\n",
    "# If given number is greater than 1\n",
    "if num > 1:\n",
    "\t# Iterate from 2 to n / 2\n",
    "\tfor i in range(2, int(num/2)+1):\n",
    "\t\t# If num is divisible by any number between\n",
    "\t\t# 2 and n / 2, it is not prime\n",
    "\t\tif (num % i) == 0:\n",
    "\t\t\tprint(num, \"is not a prime number\")\n",
    "\t\t\tbreak\n",
    "\telse:\n",
    "\t\tprint(num, \"is a prime number\")\n",
    "else:\n",
    "\tprint(num, \"is not a prime number\")\n"
   ]
  },
  {
   "cell_type": "code",
   "execution_count": 1,
   "id": "29d55f27-487e-4d11-b378-2f2faf317234",
   "metadata": {},
   "outputs": [
    {
     "name": "stdin",
     "output_type": "stream",
     "text": [
      "Enter your mark  43\n"
     ]
    },
    {
     "name": "stdout",
     "output_type": "stream",
     "text": [
      "You got C grade\n"
     ]
    }
   ],
   "source": [
    "#Write a Python program to assign grades based on different ranges of scores using elif statements.\n",
    "m=int(input(\"Enter your mark \"))\n",
    "if(m>=80):\n",
    "    print(\"You got A grade\")\n",
    "elif(m>=60):\n",
    "    print(\"You got B grade\")\n",
    "elif(m>=40):\n",
    "    print(\"You got C grade\")\n",
    "else:\n",
    "    print(\"Failed in this Exam \")"
   ]
  },
  {
   "cell_type": "code",
   "execution_count": 2,
   "id": "30a852ed-9788-488c-b399-3f8356673b69",
   "metadata": {},
   "outputs": [
    {
     "name": "stdout",
     "output_type": "stream",
     "text": [
      "Scalene Triangle\n"
     ]
    }
   ],
   "source": [
    "#Implement a program to determine the type of a triangle based on its angles.\n",
    "def checkTriangle(x, y, z):\n",
    " \n",
    "    # _Check for equilateral triangle\n",
    "    if x == y == z:\n",
    "        print(\"Equilateral Triangle\")\n",
    " \n",
    "    # Check for isosceles triangle\n",
    "    elif x == y or y == z or z == x:\n",
    "        print(\"Isosceles Triangle\")\n",
    " \n",
    "    # Otherwise scalene triangle\n",
    "    else:\n",
    "        print(\"Scalene Triangle\")\n",
    " \n",
    " \n",
    "x = 81.7\n",
    "y = 73.2\n",
    "z = 19\n",
    " \n",
    "\n",
    "checkTriangle(x, y, z)"
   ]
  },
  {
   "cell_type": "code",
   "execution_count": 7,
   "id": "be2eae1a-e6be-499a-b340-894d0f576d10",
   "metadata": {},
   "outputs": [
    {
     "name": "stdin",
     "output_type": "stream",
     "text": [
      "Enter the height in cm:  177\n",
      "Enter the weight in kg:  58\n"
     ]
    },
    {
     "name": "stdout",
     "output_type": "stream",
     "text": [
      "Your Body Mass Index is 18.513198633853616\n",
      "Awesome! You are healthy.\n"
     ]
    }
   ],
   "source": [
    "#Develop a program to categorize a given person's BMI into underweight, normal, overweight, or obese using elif statements.\n",
    "the_height = float(input(\"Enter the height in cm: \"))  \n",
    "the_weight = float(input(\"Enter the weight in kg: \"))  \n",
    "# defining a function for BMI  \n",
    "the_BMI = the_weight / (the_height/100)**2  \n",
    "# printing the BMI  \n",
    "print(\"Your Body Mass Index is\", the_BMI)  \n",
    "# using the if-elif-else conditions  \n",
    "if the_BMI <= 18.5:  \n",
    "    print(\"Oops! You are underweight.\")  \n",
    "elif the_BMI <= 24.9:  \n",
    "    print(\"Awesome! You are healthy.\")  \n",
    "elif the_BMI <= 29.9:  \n",
    "    the_print(\"Eee! You are over weight.\")  \n",
    "else:  \n",
    "    print(\"Seesh! You are obese.\")  \n",
    "    "
   ]
  },
  {
   "cell_type": "code",
   "execution_count": 9,
   "id": "84f98fc1-0006-4849-b6f3-fbfba61abb83",
   "metadata": {},
   "outputs": [
    {
     "name": "stdout",
     "output_type": "stream",
     "text": [
      "Positive\n",
      "Equal to zero\n",
      "Negative\n"
     ]
    }
   ],
   "source": [
    "##Write a Python script to determine if a number is positive, negative, or zero\n",
    "\n",
    "def check(n):\n",
    "\t\n",
    "\t# if the number is positive\n",
    "\tif n > 0:\n",
    "\t\tprint(\"Positive\")\n",
    "\t\t\n",
    "\t# if the number is negative\n",
    "\telif n < 0:\n",
    "\t\tprint(\"Negative\")\n",
    "\t\t\n",
    "\t# if the number is equal to\n",
    "\t# zero\n",
    "\telse:\n",
    "\t\tprint(\"Equal to zero\")\n",
    "\t\t\n",
    "\n",
    "check(457.17)\n",
    "check(0)\n",
    "check(-51)\n"
   ]
  },
  {
   "cell_type": "code",
   "execution_count": 10,
   "id": "c36bd618-5788-40f9-be26-2a963bd3ca5b",
   "metadata": {},
   "outputs": [
    {
     "name": "stdin",
     "output_type": "stream",
     "text": [
      "Enter a character:  PWSkills\n"
     ]
    },
    {
     "name": "stdout",
     "output_type": "stream",
     "text": [
      "PWSkills is a lower case letter.\n"
     ]
    }
   ],
   "source": [
    "#write a Python script to determine the type of a character (uppercase, lowercase, or special) using elif statements.\n",
    "character = input(\"Enter a character: \")\n",
    "\n",
    "lowerLetters = \"abcdefghijklmnopqrstuvwxyz\"\n",
    "upperLetters = \"ABCDEFGHIJKLMNOPQRSTUVWXYZ\"\n",
    "digits = \"0123456789\"\n",
    "lowerCount = 0\n",
    "upperCount = 0\n",
    "digitCount = 0\n",
    "nonAlphaCount = 0\n",
    "\n",
    "for ch in character:\n",
    "    for ch in lowerLetters:\n",
    "        lowerCount += 1\n",
    "    for ch in upperLetters:\n",
    "        upperCount += 1\n",
    "    for ch in digits:\n",
    "        digitCount += 1\n",
    "    else:\n",
    "        nonAlphaCount += 1\n",
    "\n",
    "if lowerCount > 0:\n",
    "    print(character, \"is a lower case letter.\")\n",
    "elif upperCount > 0:\n",
    "    print(character, \"is an upper case letter.\")\n",
    "elif digitCount > 0:\n",
    "    print(character, \"is a digit.\")\n",
    "elif nonAlphaCount > 0:\n",
    "    print(character, \"is a non-alphanumeric character.\")"
   ]
  },
  {
   "cell_type": "code",
   "execution_count": 12,
   "id": "769e46d4-c8bd-43fc-ae0c-a7ba868e46a5",
   "metadata": {},
   "outputs": [
    {
     "name": "stdin",
     "output_type": "stream",
     "text": [
      "Enter purchase amount  12799\n"
     ]
    },
    {
     "name": "stdout",
     "output_type": "stream",
     "text": [
      "Discount Amount = 559.80\n",
      "Net Bill Amount = 12239.20\n"
     ]
    }
   ],
   "source": [
    "#implement a program to calculate the discounted price based on different purchase amounts using elif statements.\n",
    "p=int(input('Enter purchase amount '))\n",
    "\n",
    "if p<=5000:\n",
    "    dis=0\n",
    "elif p>5000 and p<=10000:\n",
    "    dis=(p-5000)*(10/100.0)\n",
    "elif p>10000 and p<=20000:\n",
    "    dis=(p-10000)*(20/100.0)\n",
    "elif p>20000 and p<=30000:\n",
    "    dis=(p-20000)*(30/100.0)\n",
    "else:\n",
    "    dis=(p-30000)*(40/100.0)\n",
    "\n",
    "print('Discount Amount = {:.2f}'.format(dis))\n",
    "print('Net Bill Amount = {:.2f}'.format(p-dis))"
   ]
  },
  {
   "cell_type": "code",
   "execution_count": 1,
   "id": "a5b6fb10-306a-4e0a-9b04-1cae4fff4639",
   "metadata": {},
   "outputs": [
    {
     "name": "stdin",
     "output_type": "stream",
     "text": [
      "Enter your unit:  220\n"
     ]
    },
    {
     "name": "stdout",
     "output_type": "stream",
     "text": [
      "Bill Per Unit: 1237.6\n",
      "Bill after adding Line rent: 1556.6\n",
      "Bill after adding Meter rent: 1656.6\n",
      "Total Bill after adding tax: 1921.656\n"
     ]
    }
   ],
   "source": [
    "#Develop a program to calculate the electricity bill based on different consumption slabs using elif statements.\n",
    "unit = int(input(\"Enter your unit: \"))\n",
    "if unit <= 100:\n",
    "    bill = unit * 3.46\n",
    "elif unit >= 101 and unit <= 300:\n",
    "    bill = 346 + ((unit - 100) * 7.43)\n",
    "elif unit >= 301 and unit <= 500:\n",
    "    bill = 346 + 1486 + ((unit - 300) * 10.32)\n",
    "else:\n",
    "    bill = 346 + 1486 + 2064 + ((unit - 500) * 11.71)\n",
    "print(\"Bill Per Unit:\",bill)\n",
    "bill = bill + (unit*1.45)\n",
    "print(\"Bill after adding Line rent:\",bill)\n",
    "bill = bill + 100\n",
    "print(\"Bill after adding Meter rent:\",bill)\n",
    "bill = bill + (bill*0.16)\n",
    "print(\"Total Bill after adding tax:\",bill)\n"
   ]
  },
  {
   "cell_type": "code",
   "execution_count": 6,
   "id": "23777161-105e-4684-b30a-a82fe1e08dde",
   "metadata": {},
   "outputs": [
    {
     "name": "stdout",
     "output_type": "stream",
     "text": [
      "SPRING\n"
     ]
    }
   ],
   "source": [
    "#Write a Python script to determine the season based on a user-provided month using elif statements.\n",
    "def findseason (M) :\n",
    "\t\n",
    "\t\n",
    "\t# month numbers in the list.\n",
    "\tlist1 = [[12 , 1 , 2], [3 , 4 , 5], \n",
    "\t\t\t[6 , 7 , 8], [9 , 10 , 11]]\n",
    "\t\t\t\n",
    "\t\n",
    "\t# with the above list entries \n",
    "\tif M in list1[0] :\n",
    "\t\tprint ( \"WINTER\" )\n",
    "\telif M in list1[1] :\n",
    "\t\tprint ( \"SPRING\" )\n",
    "\telif M in list1[2] :\n",
    "\t\tprint ( \"SUMMER\" )\n",
    "\telif M in list1[3] :\n",
    "\t\tprint ( \"AUTUMN\" )\n",
    "\telse :\n",
    "\t\tprint ( \"Invalid Month Number\" )\n",
    "\n",
    "findseason(5)\n",
    "\n"
   ]
  },
  {
   "cell_type": "code",
   "execution_count": 7,
   "id": "6554f570-80e9-4149-8fb9-058f6532a69e",
   "metadata": {},
   "outputs": [
    {
     "name": "stdin",
     "output_type": "stream",
     "text": [
      " 8\n",
      " 2001\n"
     ]
    },
    {
     "name": "stdout",
     "output_type": "stream",
     "text": [
      "Number of days is 31\n"
     ]
    }
   ],
   "source": [
    "#Implement a program to determine the type of a year (leap or common) and month (30 or 31 days) using elif statements.\n",
    "month = int(input())\n",
    "year = int(input())\n",
    "if(month == 1 or month == 3 or month == 5 or month == 7 or month == 8 or month == 10 or month == 12):\n",
    "\tprint(\"Number of days is 31\")\n",
    "elif((month == 2) and ((year%400==0) or (year%4==0 and year%100!=0))):\t\n",
    "\tprint(\"Number of days is 29\")\n",
    "elif(month == 2):\n",
    "\tprint(\" of days is 28\")\n",
    "else:\n",
    "\tprint(\"Number of days is 30\")"
   ]
  },
  {
   "cell_type": "code",
   "execution_count": null,
   "id": "d9dc6c38-a8cc-4a0e-99f1-17d6a6fa7a6f",
   "metadata": {},
   "outputs": [],
   "source": []
  }
 ],
 "metadata": {
  "kernelspec": {
   "display_name": "Python 3 (ipykernel)",
   "language": "python",
   "name": "python3"
  },
  "language_info": {
   "codemirror_mode": {
    "name": "ipython",
    "version": 3
   },
   "file_extension": ".py",
   "mimetype": "text/x-python",
   "name": "python",
   "nbconvert_exporter": "python",
   "pygments_lexer": "ipython3",
   "version": "3.10.8"
  }
 },
 "nbformat": 4,
 "nbformat_minor": 5
}
