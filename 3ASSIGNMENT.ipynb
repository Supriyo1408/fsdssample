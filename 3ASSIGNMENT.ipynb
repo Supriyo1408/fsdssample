{
 "cells": [
  {
   "cell_type": "code",
   "execution_count": 1,
   "id": "b2c06f73-2f88-4d72-a1b8-97f9a7ff95c3",
   "metadata": {},
   "outputs": [
    {
     "name": "stdout",
     "output_type": "stream",
     "text": [
      "1\n",
      "2\n",
      "3\n",
      "4\n",
      "5\n",
      "6\n",
      "7\n",
      "8\n",
      "9\n",
      "10\n"
     ]
    }
   ],
   "source": [
    "#Write a Python program to print the numbers from 1 to 10 using a `for` loop.\n",
    "for i in range(1, 11):\n",
    "    print(i)"
   ]
  },
  {
   "cell_type": "code",
   "execution_count": 2,
   "id": "e1027d84-1a09-4018-8e2a-41e83e4895b0",
   "metadata": {},
   "outputs": [
    {
     "name": "stdout",
     "output_type": "stream",
     "text": [
      "40\n"
     ]
    }
   ],
   "source": [
    "#Create a program that calculates the sum of all numbers in a list using a `for` loop\n",
    "list1 = [12, 15, 3, 10]\n",
    "s=[i for i in list1] \n",
    "print(sum(s))\n"
   ]
  },
  {
   "cell_type": "code",
   "execution_count": 1,
   "id": "4b4d68c9-80b3-4122-bc28-b65c00764894",
   "metadata": {},
   "outputs": [
    {
     "name": "stdout",
     "output_type": "stream",
     "text": [
      "The original string is : I am Supriyo\n",
      "The reversed string(using recursion) is : oyirpuS ma I\n"
     ]
    }
   ],
   "source": [
    "#Write a program to print the characters of a string in reverse order using a `for` loop.\n",
    "def reverse(s):\n",
    "\tif len(s) == 0:\n",
    "\t\treturn s\n",
    "\telse:\n",
    "\t\treturn reverse(s[1:]) + s[0]\n",
    "\n",
    "\n",
    "s = \"I am Supriyo\"\n",
    "\n",
    "print(\"The original string is : \", end=\"\")\n",
    "print(s)\n",
    "\n",
    "print(\"The reversed string(using recursion) is : \", end=\"\")\n",
    "print(reverse(s))\n"
   ]
  },
  {
   "cell_type": "code",
   "execution_count": 3,
   "id": "a5f87f97-5bbe-430b-a816-634545a7bfa6",
   "metadata": {},
   "outputs": [
    {
     "name": "stdout",
     "output_type": "stream",
     "text": [
      "Factorial of 8 is 40320\n"
     ]
    }
   ],
   "source": [
    "#Develop a program that finds the factorial of a given number using a `for` loop.\n",
    "# Python 3 program to find \n",
    "# factorial of given number\n",
    "def factorial(n):\n",
    "\t\n",
    "\t# single line to find factorial\n",
    "\treturn 1 if (n==1 or n==0) else n * factorial(n - 1) \n",
    "\n",
    "# Driver Code\n",
    "num = 8\n",
    "print(\"Factorial of\",num,\"is\",factorial(num))\n"
   ]
  },
  {
   "cell_type": "code",
   "execution_count": 6,
   "id": "5753a086-1620-4ea2-81f6-46a976956f44",
   "metadata": {},
   "outputs": [
    {
     "name": "stdout",
     "output_type": "stream",
     "text": [
      "14 x 1 = 14\n",
      "14 x 2 = 28\n",
      "14 x 3 = 42\n",
      "14 x 4 = 56\n",
      "14 x 5 = 70\n",
      "14 x 6 = 84\n",
      "14 x 7 = 98\n",
      "14 x 8 = 112\n",
      "14 x 9 = 126\n",
      "14 x 10 = 140\n"
     ]
    }
   ],
   "source": [
    "#Create a program to print the multiplication table of a given number using a `for` loop.\n",
    "# Multiplication table (from 1 to 10) in Python\n",
    "\n",
    "num = 14\n",
    "\n",
    "\n",
    "# Iterate 10 times from i = 1 to 10\n",
    "for i in range(1, 11):\n",
    "   print(num, 'x', i, '=', num*i)\n",
    "   "
   ]
  },
  {
   "cell_type": "code",
   "execution_count": 7,
   "id": "b4499186-c552-448c-8a3f-cab88021f307",
   "metadata": {},
   "outputs": [
    {
     "name": "stdout",
     "output_type": "stream",
     "text": [
      "Even numbers in the list:  3\n",
      "Odd numbers in the list:  5\n"
     ]
    }
   ],
   "source": [
    "#Write a program that counts the number of even and odd numbers in a list using a `for` loop.\n",
    "\n",
    "# list of numbers\n",
    "list1 = [10, 21, 3, 9, 44, 62, 93, 1]\n",
    "\n",
    "even_count, odd_count = 0, 0\n",
    "\n",
    "# iterating each number in list\n",
    "for num in list1:\n",
    "\n",
    "\t# checking condition\n",
    "\tif num % 2 == 0:\n",
    "\t\teven_count += 1\n",
    "\n",
    "\telse:\n",
    "\t\todd_count += 1\n",
    "\n",
    "print(\"Even numbers in the list: \", even_count)\n",
    "print(\"Odd numbers in the list: \", odd_count)\n"
   ]
  },
  {
   "cell_type": "code",
   "execution_count": 9,
   "id": "7873d798-7461-414e-990e-c7fe3c99b187",
   "metadata": {},
   "outputs": [
    {
     "name": "stdout",
     "output_type": "stream",
     "text": [
      "1\n",
      "4\n",
      "9\n",
      "16\n",
      "25\n"
     ]
    }
   ],
   "source": [
    "#Develop a program that prints the squares of numbers from 1 to 5 using a `for` loop\n",
    "for i in range(1, 6):\n",
    "    print(i**2)"
   ]
  },
  {
   "cell_type": "code",
   "execution_count": 10,
   "id": "0434b772-18bb-420d-91a1-3caa6b073fe2",
   "metadata": {},
   "outputs": [
    {
     "name": "stdout",
     "output_type": "stream",
     "text": [
      "7\n"
     ]
    }
   ],
   "source": [
    "#Create a program to find the length of a string without using the `len()` function.\n",
    "string = 'Kolkata'\n",
    "\n",
    "count = 0\n",
    "\n",
    "for i in string:\n",
    " \n",
    "    count+=1\n",
    "print(count)"
   ]
  },
  {
   "cell_type": "code",
   "execution_count": 11,
   "id": "933defa0-e6e6-44eb-8da6-5c7029c0bc6a",
   "metadata": {},
   "outputs": [
    {
     "name": "stdout",
     "output_type": "stream",
     "text": [
      "The average is 10.0\n"
     ]
    }
   ],
   "source": [
    "#Write a program that calculates the average of a list of numbers using a `for`loop\n",
    "def cal_average(num):\n",
    "    sum_num = 0\n",
    "    for t in num:\n",
    "        sum_num = sum_num + t           \n",
    "    avg = sum_num / len(num)\n",
    "    return avg\n",
    "print(\"The average is\", cal_average([10,12,22,2,4]))\n"
   ]
  },
  {
   "cell_type": "code",
   "execution_count": 12,
   "id": "6d19783a-c66c-41ce-bfa3-c7af847b09dc",
   "metadata": {},
   "outputs": [
    {
     "name": "stdout",
     "output_type": "stream",
     "text": [
      "0 1 1 2 3 "
     ]
    }
   ],
   "source": [
    "#Develop a program that prints the first `n` Fibonacci numbers using a `for` loop.\n",
    "def fibonacci_numbers(num): \n",
    "\tif num == 0: \n",
    "\t\treturn 0\n",
    "\telif num == 1: \n",
    "\t\treturn 1\n",
    "\telse: \n",
    "\t\t# printing fibonacci numbers \n",
    "\t\treturn fibonacci_numbers(num-2)+fibonacci_numbers(num-1) \n",
    "\n",
    "\n",
    "n = 5\n",
    "for i in range(0, n): \n",
    "\tprint(fibonacci_numbers(i), end=\" \") \n"
   ]
  },
  {
   "cell_type": "code",
   "execution_count": null,
   "id": "c9b34540-653a-4994-b0a4-6945378d2be7",
   "metadata": {},
   "outputs": [],
   "source": [
    "#Write a program to check if a given list contains any duplicates using a `for` loop"
   ]
  }
 ],
 "metadata": {
  "kernelspec": {
   "display_name": "Python 3 (ipykernel)",
   "language": "python",
   "name": "python3"
  },
  "language_info": {
   "codemirror_mode": {
    "name": "ipython",
    "version": 3
   },
   "file_extension": ".py",
   "mimetype": "text/x-python",
   "name": "python",
   "nbconvert_exporter": "python",
   "pygments_lexer": "ipython3",
   "version": "3.10.8"
  }
 },
 "nbformat": 4,
 "nbformat_minor": 5
}
